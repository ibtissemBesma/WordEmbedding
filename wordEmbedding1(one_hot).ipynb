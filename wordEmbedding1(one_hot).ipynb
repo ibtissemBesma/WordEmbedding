{
  "nbformat": 4,
  "nbformat_minor": 0,
  "metadata": {
    "colab": {
      "provenance": []
    },
    "kernelspec": {
      "name": "python3",
      "display_name": "Python 3"
    },
    "language_info": {
      "name": "python"
    },
    "accelerator": "GPU"
  },
  "cells": [
    {
      "cell_type": "code",
      "execution_count": 1,
      "metadata": {
        "id": "z_LxD1nymip9"
      },
      "outputs": [],
      "source": [
        "import numpy as np  \n",
        "from tensorflow.keras.preprocessing.text import one_hot\n",
        "from tensorflow.keras.preprocessing.sequence import pad_sequences\n",
        "from tensorflow.keras.models import Sequential\n",
        "from tensorflow.keras.layers import Dense\n",
        "from tensorflow.keras.layers import Flatten\n",
        "from tensorflow.keras.layers import Embedding"
      ]
    },
    {
      "cell_type": "code",
      "source": [
        "reviews=['nice food','amazing restaurant','too good',\n",
        "         'just love it!',\n",
        "         'will go again',\n",
        "         'horrible food',\n",
        "         'never go there',\n",
        "         'poor service',\n",
        "         'poor quality',\n",
        "         'needs improvement']\n",
        "sentiments=np.array([1,1,1,1,1,0,0,0,0,0])"
      ],
      "metadata": {
        "id": "_Rd9JwK9m1cp"
      },
      "execution_count": 2,
      "outputs": []
    },
    {
      "cell_type": "code",
      "source": [
        "one_hot(\"amazing restaurant\",30) #give a unique number to each word lower than 30"
      ],
      "metadata": {
        "colab": {
          "base_uri": "https://localhost:8080/"
        },
        "id": "yVSo_h5amtS7",
        "outputId": "d6f79baf-99c1-4c8c-d9bc-1251b0c61ee9"
      },
      "execution_count": 3,
      "outputs": [
        {
          "output_type": "execute_result",
          "data": {
            "text/plain": [
              "[22, 11]"
            ]
          },
          "metadata": {},
          "execution_count": 3
        }
      ]
    },
    {
      "cell_type": "code",
      "source": [
        "vocab_size=30\n",
        "encoded_reviews= [one_hot(d,vocab_size) for d in reviews]\n",
        "encoded_reviews"
      ],
      "metadata": {
        "colab": {
          "base_uri": "https://localhost:8080/"
        },
        "id": "mNEK8rKjoPTM",
        "outputId": "d791fe2f-44b7-4d87-d282-a85d6279b84a"
      },
      "execution_count": 5,
      "outputs": [
        {
          "output_type": "execute_result",
          "data": {
            "text/plain": [
              "[[11, 2],\n",
              " [22, 11],\n",
              " [15, 5],\n",
              " [16, 2, 17],\n",
              " [2, 27, 27],\n",
              " [1, 2],\n",
              " [11, 27, 3],\n",
              " [5, 2],\n",
              " [5, 20],\n",
              " [28, 8]]"
            ]
          },
          "metadata": {},
          "execution_count": 5
        }
      ]
    },
    {
      "cell_type": "code",
      "source": [
        "#We need to add some padding to the vector \n",
        "#in order to make it in the same size\n",
        "max_length=3\n",
        "padded_reviews= pad_sequences(encoded_reviews,\n",
        "                                       maxlen=max_length,\n",
        "                                       padding='post')\n",
        "padded_reviews"
      ],
      "metadata": {
        "colab": {
          "base_uri": "https://localhost:8080/"
        },
        "id": "HTIcWZ7Eozbd",
        "outputId": "42a7bc6a-763d-436b-8979-e45b87a39c2e"
      },
      "execution_count": 6,
      "outputs": [
        {
          "output_type": "execute_result",
          "data": {
            "text/plain": [
              "array([[11,  2,  0],\n",
              "       [22, 11,  0],\n",
              "       [15,  5,  0],\n",
              "       [16,  2, 17],\n",
              "       [ 2, 27, 27],\n",
              "       [ 1,  2,  0],\n",
              "       [11, 27,  3],\n",
              "       [ 5,  2,  0],\n",
              "       [ 5, 20,  0],\n",
              "       [28,  8,  0]], dtype=int32)"
            ]
          },
          "metadata": {},
          "execution_count": 6
        }
      ]
    },
    {
      "cell_type": "code",
      "source": [
        "embeded_vector_size=5\n",
        "\n",
        "model=Sequential()\n",
        "model.add(Embedding(vocab_size,\n",
        "                    embeded_vector_size,\n",
        "                    input_length=max_length,\n",
        "                    name=\"embedding\"))\n",
        "model.add(Flatten())\n",
        "model.add(Dense(1,activation='sigmoid'))"
      ],
      "metadata": {
        "id": "8mOXMtf4pyHb"
      },
      "execution_count": 7,
      "outputs": []
    },
    {
      "cell_type": "code",
      "source": [
        "X=padded_reviews\n",
        "y=sentiments"
      ],
      "metadata": {
        "id": "6vRNWVworOkC"
      },
      "execution_count": 8,
      "outputs": []
    },
    {
      "cell_type": "code",
      "source": [
        "model.compile(optimizer='adam',loss='binary_crossentropy',metrics=['accuracy'])\n",
        "model.summary()"
      ],
      "metadata": {
        "colab": {
          "base_uri": "https://localhost:8080/"
        },
        "id": "Vh5cH6jHrXhB",
        "outputId": "5e5b9847-6468-46bc-a326-99a5fe9c2fe0"
      },
      "execution_count": 9,
      "outputs": [
        {
          "output_type": "stream",
          "name": "stdout",
          "text": [
            "Model: \"sequential\"\n",
            "_________________________________________________________________\n",
            " Layer (type)                Output Shape              Param #   \n",
            "=================================================================\n",
            " embedding (Embedding)       (None, 3, 5)              150       \n",
            "                                                                 \n",
            " flatten (Flatten)           (None, 15)                0         \n",
            "                                                                 \n",
            " dense (Dense)               (None, 1)                 16        \n",
            "                                                                 \n",
            "=================================================================\n",
            "Total params: 166\n",
            "Trainable params: 166\n",
            "Non-trainable params: 0\n",
            "_________________________________________________________________\n"
          ]
        }
      ]
    },
    {
      "cell_type": "code",
      "source": [
        "model.fit(X,y,epochs=50,verbose=0)"
      ],
      "metadata": {
        "colab": {
          "base_uri": "https://localhost:8080/"
        },
        "id": "7jqSIhpNr4QD",
        "outputId": "684092ed-90cf-479f-bab2-6f019c4bb29b"
      },
      "execution_count": 10,
      "outputs": [
        {
          "output_type": "execute_result",
          "data": {
            "text/plain": [
              "<keras.callbacks.History at 0x7fd8102e3b50>"
            ]
          },
          "metadata": {},
          "execution_count": 10
        }
      ]
    },
    {
      "cell_type": "code",
      "source": [
        "loss,accuracy= model.evaluate(X,y)"
      ],
      "metadata": {
        "colab": {
          "base_uri": "https://localhost:8080/"
        },
        "id": "9QysZEPMsiPU",
        "outputId": "18fe162b-728d-4b49-b508-e8b00dac42f8"
      },
      "execution_count": 11,
      "outputs": [
        {
          "output_type": "stream",
          "name": "stdout",
          "text": [
            "1/1 [==============================] - 0s 121ms/step - loss: 0.6457 - accuracy: 1.0000\n"
          ]
        }
      ]
    },
    {
      "cell_type": "code",
      "source": [
        "#embeddings\n",
        "model.get_layer('embedding').get_weights()[0]"
      ],
      "metadata": {
        "colab": {
          "base_uri": "https://localhost:8080/"
        },
        "id": "n2nMU-E7suZN",
        "outputId": "fee9d353-f933-4d78-f682-ef23ec82d085"
      },
      "execution_count": 13,
      "outputs": [
        {
          "output_type": "execute_result",
          "data": {
            "text/plain": [
              "array([[ 0.01065621,  0.04089794, -0.07790412,  0.09039765, -0.07179627],\n",
              "       [ 0.07430856, -0.09460111,  0.00489081,  0.06362014,  0.02245638],\n",
              "       [-0.05062097,  0.00835249, -0.08698453, -0.02576502, -0.03682781],\n",
              "       [ 0.05747958,  0.00213661, -0.02231101,  0.02927537, -0.09251229],\n",
              "       [ 0.03371492, -0.03386062, -0.01592458, -0.01194789,  0.0232139 ],\n",
              "       [ 0.02621184,  0.01727011, -0.03065098, -0.01881394,  0.09506264],\n",
              "       [-0.00247724, -0.03159501, -0.0444026 , -0.04778409,  0.03429684],\n",
              "       [-0.04325459,  0.03431226, -0.04771296,  0.03748341, -0.04983268],\n",
              "       [-0.05710134, -0.03474732,  0.07793243,  0.03825818, -0.07591689],\n",
              "       [-0.02465985,  0.04029438, -0.03949033,  0.021518  , -0.00304613],\n",
              "       [ 0.04405757,  0.02544658, -0.04805128, -0.03872244, -0.03076472],\n",
              "       [ 0.03342024,  0.00052427, -0.03815269, -0.03527923,  0.00336367],\n",
              "       [ 0.01593807,  0.02121855, -0.04503517, -0.00073689, -0.00968092],\n",
              "       [-0.03034132, -0.04792581, -0.00793716,  0.04041984,  0.04651285],\n",
              "       [-0.02449592, -0.0462713 ,  0.03158892,  0.02329958, -0.0056156 ],\n",
              "       [-0.0299379 ,  0.09399017, -0.0996814 , -0.01432014, -0.01494687],\n",
              "       [-0.00865757,  0.00315256, -0.04254599, -0.00505124, -0.07043036],\n",
              "       [-0.01309429, -0.02060951,  0.04354092, -0.09083447,  0.00690135],\n",
              "       [ 0.02841074, -0.03799554,  0.03676654, -0.03486881,  0.01408366],\n",
              "       [-0.00534766, -0.00577176, -0.01008792, -0.04542773, -0.02371974],\n",
              "       [-0.06482193, -0.05678124,  0.09442125,  0.08635633, -0.05528101],\n",
              "       [ 0.01570095, -0.0326106 ,  0.03416664,  0.02522707, -0.0243055 ],\n",
              "       [-0.08241118,  0.05825276, -0.08738834, -0.00794827, -0.01452203],\n",
              "       [ 0.01264853, -0.00170531,  0.04376588, -0.0204847 , -0.03057379],\n",
              "       [-0.04108842,  0.01578007, -0.04594949,  0.03001389,  0.03816934],\n",
              "       [-0.00856491, -0.03334483, -0.00930669,  0.01329461,  0.04040797],\n",
              "       [-0.03093431, -0.01708425,  0.03653071,  0.03148737,  0.02781345],\n",
              "       [-0.02206372, -0.04163813,  0.02863192, -0.01337033,  0.07622021],\n",
              "       [ 0.10146599, -0.07627565,  0.09580017,  0.02272939,  0.05244881],\n",
              "       [-0.02349002,  0.02183762, -0.03292362,  0.04854994,  0.01846151]],\n",
              "      dtype=float32)"
            ]
          },
          "metadata": {},
          "execution_count": 13
        }
      ]
    },
    {
      "cell_type": "code",
      "source": [],
      "metadata": {
        "id": "Xy1GpQO3tHSf"
      },
      "execution_count": null,
      "outputs": []
    }
  ]
}